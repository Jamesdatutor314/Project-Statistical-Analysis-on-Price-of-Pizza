{
 "cells": [
  {
   "cell_type": "code",
   "execution_count": 219,
   "id": "49e3e2c8",
   "metadata": {},
   "outputs": [],
   "source": [
    "import pandas as pd\n",
    "import numpy as np\n",
    "import scipy.stats as stats\n",
    "import random as r\n",
    "import matplotlib.pyplot as plt\n",
    "import seaborn as sns\n",
    "import scipy as sp\n",
    "import random as r\n",
    "\n",
    "# ignore stupid warnings\n",
    "import warnings\n",
    "warnings.filterwarnings('ignore')"
   ]
  },
  {
   "cell_type": "code",
   "execution_count": 220,
   "id": "787873e2",
   "metadata": {},
   "outputs": [
    {
     "data": {
      "text/html": [
       "<div>\n",
       "<style scoped>\n",
       "    .dataframe tbody tr th:only-of-type {\n",
       "        vertical-align: middle;\n",
       "    }\n",
       "\n",
       "    .dataframe tbody tr th {\n",
       "        vertical-align: top;\n",
       "    }\n",
       "\n",
       "    .dataframe thead th {\n",
       "        text-align: right;\n",
       "    }\n",
       "</style>\n",
       "<table border=\"1\" class=\"dataframe\">\n",
       "  <thead>\n",
       "    <tr style=\"text-align: right;\">\n",
       "      <th></th>\n",
       "      <th>Company</th>\n",
       "      <th>Pizza Name</th>\n",
       "      <th>Type</th>\n",
       "      <th>Size</th>\n",
       "      <th>Price</th>\n",
       "    </tr>\n",
       "  </thead>\n",
       "  <tbody>\n",
       "    <tr>\n",
       "      <th>0</th>\n",
       "      <td>Domino's Pizza</td>\n",
       "      <td>Hand Tossed</td>\n",
       "      <td>Cheeses Pizza</td>\n",
       "      <td>Small (10\")</td>\n",
       "      <td>$5.99</td>\n",
       "    </tr>\n",
       "    <tr>\n",
       "      <th>1</th>\n",
       "      <td>Domino's Pizza</td>\n",
       "      <td>Hand Tossed</td>\n",
       "      <td>Cheeses Pizza</td>\n",
       "      <td>Medium (12\")</td>\n",
       "      <td>$7.99</td>\n",
       "    </tr>\n",
       "    <tr>\n",
       "      <th>2</th>\n",
       "      <td>Domino's Pizza</td>\n",
       "      <td>Hand Tossed</td>\n",
       "      <td>Cheeses Pizza</td>\n",
       "      <td>Large (14\")</td>\n",
       "      <td>$9.99</td>\n",
       "    </tr>\n",
       "    <tr>\n",
       "      <th>3</th>\n",
       "      <td>Domino's Pizza</td>\n",
       "      <td>Handmade Pan</td>\n",
       "      <td>Cheeses Pizza</td>\n",
       "      <td>Medium (12\")</td>\n",
       "      <td>$7.99</td>\n",
       "    </tr>\n",
       "    <tr>\n",
       "      <th>4</th>\n",
       "      <td>Domino's Pizza</td>\n",
       "      <td>Crunchy Thin Crust</td>\n",
       "      <td>Cheeses Pizza</td>\n",
       "      <td>Small (10\")</td>\n",
       "      <td>$5.99</td>\n",
       "    </tr>\n",
       "  </tbody>\n",
       "</table>\n",
       "</div>"
      ],
      "text/plain": [
       "          Company          Pizza Name           Type          Size  Price\n",
       "0  Domino's Pizza         Hand Tossed  Cheeses Pizza   Small (10\")  $5.99\n",
       "1  Domino's Pizza         Hand Tossed  Cheeses Pizza  Medium (12\")  $7.99\n",
       "2  Domino's Pizza         Hand Tossed  Cheeses Pizza   Large (14\")  $9.99\n",
       "3  Domino's Pizza        Handmade Pan  Cheeses Pizza  Medium (12\")  $7.99\n",
       "4  Domino's Pizza  Crunchy Thin Crust  Cheeses Pizza   Small (10\")  $5.99"
      ]
     },
     "execution_count": 220,
     "metadata": {},
     "output_type": "execute_result"
    }
   ],
   "source": [
    "df = pd.read_csv('pizza_data.csv')\n",
    "df.head()"
   ]
  },
  {
   "cell_type": "code",
   "execution_count": 221,
   "id": "2cb7c2c4",
   "metadata": {},
   "outputs": [
    {
     "data": {
      "text/plain": [
       "Company       0\n",
       "Pizza Name    0\n",
       "Type          0\n",
       "Size          0\n",
       "Price         0\n",
       "dtype: int64"
      ]
     },
     "execution_count": 221,
     "metadata": {},
     "output_type": "execute_result"
    }
   ],
   "source": [
    "df.isnull().sum()"
   ]
  },
  {
   "cell_type": "code",
   "execution_count": 222,
   "id": "0841956a",
   "metadata": {},
   "outputs": [
    {
     "data": {
      "text/plain": [
       "Company       object\n",
       "Pizza Name    object\n",
       "Type          object\n",
       "Size          object\n",
       "Price         object\n",
       "dtype: object"
      ]
     },
     "execution_count": 222,
     "metadata": {},
     "output_type": "execute_result"
    }
   ],
   "source": [
    "df.dtypes"
   ]
  },
  {
   "cell_type": "markdown",
   "id": "a8a36aa5",
   "metadata": {},
   "source": [
    "Good dataset but now I want pizza\n",
    "\n",
    "summarize price first then summarize it by company\n",
    "\n",
    "then you can look for relationships between price and other factors such as size"
   ]
  },
  {
   "cell_type": "code",
   "execution_count": 223,
   "id": "afe1a114",
   "metadata": {},
   "outputs": [
    {
     "data": {
      "text/plain": [
       "56"
      ]
     },
     "execution_count": 223,
     "metadata": {},
     "output_type": "execute_result"
    }
   ],
   "source": [
    "len(df['Price'].unique())"
   ]
  },
  {
   "cell_type": "code",
   "execution_count": 224,
   "id": "7864c666",
   "metadata": {},
   "outputs": [
    {
     "data": {
      "text/plain": [
       "array(['$5.99', '$7.99', '$9.99', '$11.99', '$8.99', '$13.99', '$15.99',\n",
       "       '$17.99', '$14.99', '$15.49', '$8.49', '$10.49', '$4.29', '$12.49',\n",
       "       '$4.79', '$17.49', '$13.49', '$16.49', '$5.29', '$18.49', '$4.99',\n",
       "       '$10.99', '$12.99', '$18.99', '$19.99', '$22.24', '$23.99',\n",
       "       '$27.99', '$26.23', '$16.99', '$21.99', '$22.49', '$25.99',\n",
       "       '$26.49', '$29.99', '$20.99', '$24.99', '$28.99', '$12.69',\n",
       "       '$15.34', '$15.24', '$18.69', '$18.74', '$12.70', '$16.20',\n",
       "       '$19.95', '$23.85', '$9.30', '$11.60', '$14.45', '$17.35',\n",
       "       '$19.20', '$11.80', '$14.95', '$18.65', '$22.30'], dtype=object)"
      ]
     },
     "execution_count": 224,
     "metadata": {},
     "output_type": "execute_result"
    }
   ],
   "source": [
    "df['Price'].unique()"
   ]
  },
  {
   "cell_type": "code",
   "execution_count": 225,
   "id": "7bd46a26",
   "metadata": {},
   "outputs": [
    {
     "data": {
      "text/plain": [
       "array(['Cheeses Pizza', 'Specialty Pizzas', 'Feast Pizzas'], dtype=object)"
      ]
     },
     "execution_count": 225,
     "metadata": {},
     "output_type": "execute_result"
    }
   ],
   "source": [
    "df[df['Company'] == \"Domino's Pizza\"]['Type'].unique()"
   ]
  },
  {
   "cell_type": "code",
   "execution_count": 226,
   "id": "822cf682",
   "metadata": {},
   "outputs": [
    {
     "data": {
      "text/plain": [
       "array(['Cheese Pizza', 'Specialty Pizzas', 'Gluten-Free Pizzas',\n",
       "       'Express Favorites'], dtype=object)"
      ]
     },
     "execution_count": 226,
     "metadata": {},
     "output_type": "execute_result"
    }
   ],
   "source": [
    "df[df['Company'] == \"Godfather's Pizza\"]['Type'].unique()"
   ]
  },
  {
   "cell_type": "code",
   "execution_count": 227,
   "id": "df6a8a28",
   "metadata": {},
   "outputs": [
    {
     "data": {
      "text/plain": [
       "array(['Specialty Pizzas'], dtype=object)"
      ]
     },
     "execution_count": 227,
     "metadata": {},
     "output_type": "execute_result"
    }
   ],
   "source": [
    "df[df['Company'] == \"IMO's Pizza\"]['Type'].unique()"
   ]
  },
  {
   "cell_type": "code",
   "execution_count": 228,
   "id": "60ba0d9b",
   "metadata": {},
   "outputs": [
    {
     "data": {
      "text/plain": [
       "array(['Cheese Pizza', 'Classic Recipe Pizzas', 'New Recipe Pizzas',\n",
       "       'Skinny Pizzas', 'Gluten-Free Pizzas'], dtype=object)"
      ]
     },
     "execution_count": 228,
     "metadata": {},
     "output_type": "execute_result"
    }
   ],
   "source": [
    "df[df['Company'] == \"Pizza Hut\"]['Type'].unique()"
   ]
  },
  {
   "cell_type": "markdown",
   "id": "a77da43e",
   "metadata": {},
   "source": [
    "## 1.) Delete dollar signs and conver price to float"
   ]
  },
  {
   "cell_type": "code",
   "execution_count": 229,
   "id": "acc7b51b",
   "metadata": {},
   "outputs": [
    {
     "data": {
      "text/html": [
       "<div>\n",
       "<style scoped>\n",
       "    .dataframe tbody tr th:only-of-type {\n",
       "        vertical-align: middle;\n",
       "    }\n",
       "\n",
       "    .dataframe tbody tr th {\n",
       "        vertical-align: top;\n",
       "    }\n",
       "\n",
       "    .dataframe thead th {\n",
       "        text-align: right;\n",
       "    }\n",
       "</style>\n",
       "<table border=\"1\" class=\"dataframe\">\n",
       "  <thead>\n",
       "    <tr style=\"text-align: right;\">\n",
       "      <th></th>\n",
       "      <th>Company</th>\n",
       "      <th>Pizza Name</th>\n",
       "      <th>Type</th>\n",
       "      <th>Size</th>\n",
       "      <th>Price</th>\n",
       "    </tr>\n",
       "  </thead>\n",
       "  <tbody>\n",
       "    <tr>\n",
       "      <th>0</th>\n",
       "      <td>Domino's Pizza</td>\n",
       "      <td>Hand Tossed</td>\n",
       "      <td>Cheeses Pizza</td>\n",
       "      <td>Small (10\")</td>\n",
       "      <td>$5.99</td>\n",
       "    </tr>\n",
       "    <tr>\n",
       "      <th>1</th>\n",
       "      <td>Domino's Pizza</td>\n",
       "      <td>Hand Tossed</td>\n",
       "      <td>Cheeses Pizza</td>\n",
       "      <td>Medium (12\")</td>\n",
       "      <td>$7.99</td>\n",
       "    </tr>\n",
       "    <tr>\n",
       "      <th>2</th>\n",
       "      <td>Domino's Pizza</td>\n",
       "      <td>Hand Tossed</td>\n",
       "      <td>Cheeses Pizza</td>\n",
       "      <td>Large (14\")</td>\n",
       "      <td>$9.99</td>\n",
       "    </tr>\n",
       "    <tr>\n",
       "      <th>3</th>\n",
       "      <td>Domino's Pizza</td>\n",
       "      <td>Handmade Pan</td>\n",
       "      <td>Cheeses Pizza</td>\n",
       "      <td>Medium (12\")</td>\n",
       "      <td>$7.99</td>\n",
       "    </tr>\n",
       "    <tr>\n",
       "      <th>4</th>\n",
       "      <td>Domino's Pizza</td>\n",
       "      <td>Crunchy Thin Crust</td>\n",
       "      <td>Cheeses Pizza</td>\n",
       "      <td>Small (10\")</td>\n",
       "      <td>$5.99</td>\n",
       "    </tr>\n",
       "  </tbody>\n",
       "</table>\n",
       "</div>"
      ],
      "text/plain": [
       "          Company          Pizza Name           Type          Size  Price\n",
       "0  Domino's Pizza         Hand Tossed  Cheeses Pizza   Small (10\")  $5.99\n",
       "1  Domino's Pizza         Hand Tossed  Cheeses Pizza  Medium (12\")  $7.99\n",
       "2  Domino's Pizza         Hand Tossed  Cheeses Pizza   Large (14\")  $9.99\n",
       "3  Domino's Pizza        Handmade Pan  Cheeses Pizza  Medium (12\")  $7.99\n",
       "4  Domino's Pizza  Crunchy Thin Crust  Cheeses Pizza   Small (10\")  $5.99"
      ]
     },
     "execution_count": 229,
     "metadata": {},
     "output_type": "execute_result"
    }
   ],
   "source": [
    "df = pd.read_csv('pizza_data.csv')\n",
    "df.head()"
   ]
  },
  {
   "cell_type": "code",
   "execution_count": 230,
   "id": "6e601537",
   "metadata": {},
   "outputs": [
    {
     "data": {
      "text/html": [
       "<div>\n",
       "<style scoped>\n",
       "    .dataframe tbody tr th:only-of-type {\n",
       "        vertical-align: middle;\n",
       "    }\n",
       "\n",
       "    .dataframe tbody tr th {\n",
       "        vertical-align: top;\n",
       "    }\n",
       "\n",
       "    .dataframe thead th {\n",
       "        text-align: right;\n",
       "    }\n",
       "</style>\n",
       "<table border=\"1\" class=\"dataframe\">\n",
       "  <thead>\n",
       "    <tr style=\"text-align: right;\">\n",
       "      <th></th>\n",
       "      <th>Company</th>\n",
       "      <th>Pizza Name</th>\n",
       "      <th>Type</th>\n",
       "      <th>Size</th>\n",
       "      <th>Price</th>\n",
       "    </tr>\n",
       "  </thead>\n",
       "  <tbody>\n",
       "    <tr>\n",
       "      <th>0</th>\n",
       "      <td>Domino's Pizza</td>\n",
       "      <td>Hand Tossed</td>\n",
       "      <td>Cheeses Pizza</td>\n",
       "      <td>Small (10\")</td>\n",
       "      <td>5.99</td>\n",
       "    </tr>\n",
       "    <tr>\n",
       "      <th>1</th>\n",
       "      <td>Domino's Pizza</td>\n",
       "      <td>Hand Tossed</td>\n",
       "      <td>Cheeses Pizza</td>\n",
       "      <td>Medium (12\")</td>\n",
       "      <td>7.99</td>\n",
       "    </tr>\n",
       "    <tr>\n",
       "      <th>2</th>\n",
       "      <td>Domino's Pizza</td>\n",
       "      <td>Hand Tossed</td>\n",
       "      <td>Cheeses Pizza</td>\n",
       "      <td>Large (14\")</td>\n",
       "      <td>9.99</td>\n",
       "    </tr>\n",
       "    <tr>\n",
       "      <th>3</th>\n",
       "      <td>Domino's Pizza</td>\n",
       "      <td>Handmade Pan</td>\n",
       "      <td>Cheeses Pizza</td>\n",
       "      <td>Medium (12\")</td>\n",
       "      <td>7.99</td>\n",
       "    </tr>\n",
       "    <tr>\n",
       "      <th>4</th>\n",
       "      <td>Domino's Pizza</td>\n",
       "      <td>Crunchy Thin Crust</td>\n",
       "      <td>Cheeses Pizza</td>\n",
       "      <td>Small (10\")</td>\n",
       "      <td>5.99</td>\n",
       "    </tr>\n",
       "  </tbody>\n",
       "</table>\n",
       "</div>"
      ],
      "text/plain": [
       "          Company          Pizza Name           Type          Size  Price\n",
       "0  Domino's Pizza         Hand Tossed  Cheeses Pizza   Small (10\")   5.99\n",
       "1  Domino's Pizza         Hand Tossed  Cheeses Pizza  Medium (12\")   7.99\n",
       "2  Domino's Pizza         Hand Tossed  Cheeses Pizza   Large (14\")   9.99\n",
       "3  Domino's Pizza        Handmade Pan  Cheeses Pizza  Medium (12\")   7.99\n",
       "4  Domino's Pizza  Crunchy Thin Crust  Cheeses Pizza   Small (10\")   5.99"
      ]
     },
     "execution_count": 230,
     "metadata": {},
     "output_type": "execute_result"
    }
   ],
   "source": [
    "for i,j in enumerate(df['Price']):\n",
    "    df['Price'][i] = df['Price'][i][1:]\n",
    "\n",
    "df['Price'] = pd.to_numeric(df['Price'])\n",
    "df.head()"
   ]
  },
  {
   "cell_type": "markdown",
   "id": "b35877fa",
   "metadata": {},
   "source": [
    "## 2.) Converting Size To Inches"
   ]
  },
  {
   "cell_type": "code",
   "execution_count": 231,
   "id": "9ac89d36",
   "metadata": {},
   "outputs": [
    {
     "data": {
      "text/html": [
       "<div>\n",
       "<style scoped>\n",
       "    .dataframe tbody tr th:only-of-type {\n",
       "        vertical-align: middle;\n",
       "    }\n",
       "\n",
       "    .dataframe tbody tr th {\n",
       "        vertical-align: top;\n",
       "    }\n",
       "\n",
       "    .dataframe thead th {\n",
       "        text-align: right;\n",
       "    }\n",
       "</style>\n",
       "<table border=\"1\" class=\"dataframe\">\n",
       "  <thead>\n",
       "    <tr style=\"text-align: right;\">\n",
       "      <th></th>\n",
       "      <th>Company</th>\n",
       "      <th>Pizza Name</th>\n",
       "      <th>Type</th>\n",
       "      <th>Size</th>\n",
       "      <th>Price</th>\n",
       "      <th>Diameter(inches)</th>\n",
       "    </tr>\n",
       "  </thead>\n",
       "  <tbody>\n",
       "    <tr>\n",
       "      <th>0</th>\n",
       "      <td>Domino's Pizza</td>\n",
       "      <td>Hand Tossed</td>\n",
       "      <td>Cheeses Pizza</td>\n",
       "      <td>Small (10\")</td>\n",
       "      <td>5.99</td>\n",
       "      <td>n/a</td>\n",
       "    </tr>\n",
       "    <tr>\n",
       "      <th>1</th>\n",
       "      <td>Domino's Pizza</td>\n",
       "      <td>Hand Tossed</td>\n",
       "      <td>Cheeses Pizza</td>\n",
       "      <td>Medium (12\")</td>\n",
       "      <td>7.99</td>\n",
       "      <td>n/a</td>\n",
       "    </tr>\n",
       "    <tr>\n",
       "      <th>2</th>\n",
       "      <td>Domino's Pizza</td>\n",
       "      <td>Hand Tossed</td>\n",
       "      <td>Cheeses Pizza</td>\n",
       "      <td>Large (14\")</td>\n",
       "      <td>9.99</td>\n",
       "      <td>n/a</td>\n",
       "    </tr>\n",
       "    <tr>\n",
       "      <th>3</th>\n",
       "      <td>Domino's Pizza</td>\n",
       "      <td>Handmade Pan</td>\n",
       "      <td>Cheeses Pizza</td>\n",
       "      <td>Medium (12\")</td>\n",
       "      <td>7.99</td>\n",
       "      <td>n/a</td>\n",
       "    </tr>\n",
       "    <tr>\n",
       "      <th>4</th>\n",
       "      <td>Domino's Pizza</td>\n",
       "      <td>Crunchy Thin Crust</td>\n",
       "      <td>Cheeses Pizza</td>\n",
       "      <td>Small (10\")</td>\n",
       "      <td>5.99</td>\n",
       "      <td>n/a</td>\n",
       "    </tr>\n",
       "  </tbody>\n",
       "</table>\n",
       "</div>"
      ],
      "text/plain": [
       "          Company          Pizza Name           Type          Size  Price  \\\n",
       "0  Domino's Pizza         Hand Tossed  Cheeses Pizza   Small (10\")   5.99   \n",
       "1  Domino's Pizza         Hand Tossed  Cheeses Pizza  Medium (12\")   7.99   \n",
       "2  Domino's Pizza         Hand Tossed  Cheeses Pizza   Large (14\")   9.99   \n",
       "3  Domino's Pizza        Handmade Pan  Cheeses Pizza  Medium (12\")   7.99   \n",
       "4  Domino's Pizza  Crunchy Thin Crust  Cheeses Pizza   Small (10\")   5.99   \n",
       "\n",
       "  Diameter(inches)  \n",
       "0              n/a  \n",
       "1              n/a  \n",
       "2              n/a  \n",
       "3              n/a  \n",
       "4              n/a  "
      ]
     },
     "execution_count": 231,
     "metadata": {},
     "output_type": "execute_result"
    }
   ],
   "source": [
    "df['Diameter(inches)'] = 'n/a'\n",
    "df.head()"
   ]
  },
  {
   "cell_type": "code",
   "execution_count": 232,
   "id": "a544ce0c",
   "metadata": {},
   "outputs": [
    {
     "data": {
      "text/plain": [
       "array(['Small (10\")', 'Medium (12\")', 'Large (14\")', 'X-Large (16\")'],\n",
       "      dtype=object)"
      ]
     },
     "execution_count": 232,
     "metadata": {},
     "output_type": "execute_result"
    }
   ],
   "source": [
    "df[df['Company'] == \"Domino's Pizza\"]['Size'].unique()"
   ]
  },
  {
   "cell_type": "code",
   "execution_count": 233,
   "id": "962dc5b8",
   "metadata": {},
   "outputs": [
    {
     "data": {
      "text/plain": [
       "array(['Mini', 'Small', 'Medium', 'Large', 'Jumbo'], dtype=object)"
      ]
     },
     "execution_count": 233,
     "metadata": {},
     "output_type": "execute_result"
    }
   ],
   "source": [
    "df[df['Company'] == \"Godfather's Pizza\"]['Size'].unique()"
   ]
  },
  {
   "cell_type": "code",
   "execution_count": 234,
   "id": "533692d2",
   "metadata": {},
   "outputs": [
    {
     "data": {
      "text/plain": [
       "array(['Small (10\")', 'Medium (12\")', 'Large (14\")', 'X Large (16\")'],\n",
       "      dtype=object)"
      ]
     },
     "execution_count": 234,
     "metadata": {},
     "output_type": "execute_result"
    }
   ],
   "source": [
    "df[df['Company'] == \"IMO's Pizza\"]['Size'].unique()"
   ]
  },
  {
   "cell_type": "code",
   "execution_count": 235,
   "id": "eda66aaf",
   "metadata": {},
   "outputs": [
    {
     "data": {
      "text/plain": [
       "array(['Medium', 'Large', 'Personal', 'Small'], dtype=object)"
      ]
     },
     "execution_count": 235,
     "metadata": {},
     "output_type": "execute_result"
    }
   ],
   "source": [
    "df[df['Company'] == \"Pizza Hut\"]['Size'].unique()"
   ]
  },
  {
   "cell_type": "code",
   "execution_count": 236,
   "id": "e74675ed",
   "metadata": {},
   "outputs": [],
   "source": [
    "pizza_inches = {'Small (10\")':10, 'Medium (12\")':12, 'Large (14\")':14, 'X-Large (16\")':16, # Domino\n",
    "                'Mini':6, 'Small':10, 'Medium':12, 'Large':14, 'Jumbo':18, # godfather\n",
    "                'X Large (16\")':16, # IMO\n",
    "                'Medium':12, 'Large':14, 'Personal':6, 'Small':8 } # pizza hut\n",
    "                "
   ]
  },
  {
   "cell_type": "code",
   "execution_count": 237,
   "id": "d7c188ae",
   "metadata": {},
   "outputs": [
    {
     "data": {
      "text/html": [
       "<div>\n",
       "<style scoped>\n",
       "    .dataframe tbody tr th:only-of-type {\n",
       "        vertical-align: middle;\n",
       "    }\n",
       "\n",
       "    .dataframe tbody tr th {\n",
       "        vertical-align: top;\n",
       "    }\n",
       "\n",
       "    .dataframe thead th {\n",
       "        text-align: right;\n",
       "    }\n",
       "</style>\n",
       "<table border=\"1\" class=\"dataframe\">\n",
       "  <thead>\n",
       "    <tr style=\"text-align: right;\">\n",
       "      <th></th>\n",
       "      <th>Company</th>\n",
       "      <th>Pizza Name</th>\n",
       "      <th>Type</th>\n",
       "      <th>Size</th>\n",
       "      <th>Price</th>\n",
       "      <th>Diameter(inches)</th>\n",
       "    </tr>\n",
       "  </thead>\n",
       "  <tbody>\n",
       "    <tr>\n",
       "      <th>0</th>\n",
       "      <td>Domino's Pizza</td>\n",
       "      <td>Hand Tossed</td>\n",
       "      <td>Cheeses Pizza</td>\n",
       "      <td>Small (10\")</td>\n",
       "      <td>5.99</td>\n",
       "      <td>10</td>\n",
       "    </tr>\n",
       "    <tr>\n",
       "      <th>1</th>\n",
       "      <td>Domino's Pizza</td>\n",
       "      <td>Hand Tossed</td>\n",
       "      <td>Cheeses Pizza</td>\n",
       "      <td>Medium (12\")</td>\n",
       "      <td>7.99</td>\n",
       "      <td>12</td>\n",
       "    </tr>\n",
       "    <tr>\n",
       "      <th>2</th>\n",
       "      <td>Domino's Pizza</td>\n",
       "      <td>Hand Tossed</td>\n",
       "      <td>Cheeses Pizza</td>\n",
       "      <td>Large (14\")</td>\n",
       "      <td>9.99</td>\n",
       "      <td>14</td>\n",
       "    </tr>\n",
       "    <tr>\n",
       "      <th>3</th>\n",
       "      <td>Domino's Pizza</td>\n",
       "      <td>Handmade Pan</td>\n",
       "      <td>Cheeses Pizza</td>\n",
       "      <td>Medium (12\")</td>\n",
       "      <td>7.99</td>\n",
       "      <td>12</td>\n",
       "    </tr>\n",
       "    <tr>\n",
       "      <th>4</th>\n",
       "      <td>Domino's Pizza</td>\n",
       "      <td>Crunchy Thin Crust</td>\n",
       "      <td>Cheeses Pizza</td>\n",
       "      <td>Small (10\")</td>\n",
       "      <td>5.99</td>\n",
       "      <td>10</td>\n",
       "    </tr>\n",
       "  </tbody>\n",
       "</table>\n",
       "</div>"
      ],
      "text/plain": [
       "          Company          Pizza Name           Type          Size  Price  \\\n",
       "0  Domino's Pizza         Hand Tossed  Cheeses Pizza   Small (10\")   5.99   \n",
       "1  Domino's Pizza         Hand Tossed  Cheeses Pizza  Medium (12\")   7.99   \n",
       "2  Domino's Pizza         Hand Tossed  Cheeses Pizza   Large (14\")   9.99   \n",
       "3  Domino's Pizza        Handmade Pan  Cheeses Pizza  Medium (12\")   7.99   \n",
       "4  Domino's Pizza  Crunchy Thin Crust  Cheeses Pizza   Small (10\")   5.99   \n",
       "\n",
       "   Diameter(inches)  \n",
       "0                10  \n",
       "1                12  \n",
       "2                14  \n",
       "3                12  \n",
       "4                10  "
      ]
     },
     "execution_count": 237,
     "metadata": {},
     "output_type": "execute_result"
    }
   ],
   "source": [
    "df['Diameter(inches)'] = df['Size'].map(pizza_inches)\n",
    "df.head()"
   ]
  },
  {
   "cell_type": "markdown",
   "id": "9cd055b6",
   "metadata": {},
   "source": [
    "## 3.) Condensing the Pizza name into 8 toppings"
   ]
  },
  {
   "cell_type": "code",
   "execution_count": null,
   "id": "0a80939e",
   "metadata": {},
   "outputs": [],
   "source": []
  },
  {
   "cell_type": "code",
   "execution_count": 238,
   "id": "82a0babe",
   "metadata": {
    "code_folding": []
   },
   "outputs": [],
   "source": [
    "pizza_name_cat = {'Hand Tossed':'cheese',\n",
    "        'Handmade Pan':'cheese',\n",
    "        'Crunchy Thin Crust':'cheese',\n",
    "       'Brooklyn Style':'cheese',\n",
    "        'Gluten Free Crust':'cheese',\n",
    "       'Spinach & Feta (Hand Tossed or Thin Crust)':'other',\n",
    "       'Spinach & Feta (Hand Tossed, Handmade Pan or Thin Crust)':'other',\n",
    "       'Spinach & Feta (Hand Tossed, Thin Crust or Brooklyn Style)':'other',\n",
    "       'Spinach & Feta (Brooklyn Style)':'other',\n",
    "       'Spinach & Feta (Gluten Free Crust)':'other',\n",
    "       'Wisconsin 6 Cheese (Hand Tossed or Thin Crust)':'other',\n",
    "       'Wisconsin 6 Cheese (Hand Tossed, Handmade Pan or Thin Crust)':'other',\n",
    "       'Wisconsin 6 Cheese (Hand Tossed, Thin Crust or Brooklyn Style)':'other',\n",
    "       'Wisconsin 6 Cheese (Brooklyn Style)':'other',\n",
    "       'Wisconsin 6 Cheese (Gluten Free Crust)':'other',\n",
    "       'Honolulu Hawaiian (Hand Tossed or Thin Crust)':'hawaiian',\n",
    "       'Honolulu Hawaiian (Hand Tossed, Handmade Pan or Thin Crust)':'hawaiian',\n",
    "       'Honolulu Hawaiian (Hand Tossed, Thin Crust or Brooklyn Style)':'hawaiian',\n",
    "       'Honolulu Hawaiian (Brooklyn Style)':'hawaiian',\n",
    "       'Honolulu Hawaiian (Gluten Free Crust)':'hawaiian',\n",
    "       'Philly Cheese Steak (Hand Tossed or Thin Crust)':'other',\n",
    "       'Philly Cheese Steak (Hand Tossed, Handmade Pan or Thin Crust)':'other',\n",
    "       'Philly Cheese Steak (Hand Tossed, Thin Crust or Brooklyn Style)':'other',\n",
    "       'Philly Cheese Steak (Brooklyn Style)':'other',\n",
    "       'Philly Cheese Steak (Gluten Free Crust)':'other',\n",
    "       'Pacific Veggie (Hand Tossed or Thin Crust)':'veggie',\n",
    "       'Pacific Veggie (Hand Tossed, Handmade Pan or Thin Crust)':'veggie',\n",
    "       'Pacific Veggie (Hand Tossed, Thin Crust or Brooklyn Style)':'veggie',\n",
    "       'Pacific Veggie (Brooklyn Style)':'veggie',\n",
    "       'Pacific Veggie (Gluten Free Crust)':'veggie',\n",
    "       'Cali Chicken Bacon Ranch™ (Hand Tossed or Thin Crust)':'other',\n",
    "       'Cali Chicken Bacon Ranch™ (Hand Tossed, Handmade Pan or Thin Crust)':'other',\n",
    "       'Cali Chicken Bacon Ranch™ (Hand Tossed, Thin Crust or Brooklyn Style)':'other',\n",
    "       'Cali Chicken Bacon Ranch™ (Brooklyn Style)':'other',\n",
    "       'Cali Chicken Bacon Ranch™ (Gluten Free Crust)':'other',\n",
    "       'Fiery Hawaiian™ (Hand Tossed or Thin Crust)':'hawaiian',\n",
    "       'Fiery Hawaiian™ (Hand Tossed, Handmade Pan or Thin Crust)':'hawaiian',\n",
    "       'Fiery Hawaiian™ (Hand Tossed, Thin Crust or Brooklyn Style)':'hawaiian',\n",
    "       'Fiery Hawaiian™ (Brooklyn Style)':'hawaiian',\n",
    "       'Fiery Hawaiian™ (Gluten Free Crust)':'hawaiian',\n",
    "       'Buffalo Chicken (Hand Tossed or Thin Crust)':'chicken',\n",
    "       'Buffalo Chicken (Hand Tossed, Handmade Pan or Thin Crust)':'chicken',\n",
    "       'Buffalo Chicken (Hand Tossed, Thin Crust or Brooklyn Style)':'chicken',\n",
    "       'Buffalo Chicken (Brooklyn Style)':'chicken',\n",
    "       'Buffalo Chicken (Gluten Free Crust)':'chicken',\n",
    "       'Memphis BBQ Chicken (Hand Tossed or Thin Crust)':'chicken',\n",
    "       'Memphis BBQ Chicken (Hand Tossed, Hnadmade Pan or Thin Crust)':'chicken',\n",
    "       'Memphis BBQ Chicken (Hand Tossed, Thin Crust or Brooklyn Style)':'chicken',\n",
    "       'Memphis BBQ Chicken (Brooklyn Style)':'chicken',\n",
    "       'Memphis BBQ Chicken (Gluten Free Crust)':'chicken',\n",
    "       \"America's Favorite Feast® (Hand Tossed or Thin Crust)\":'other',\n",
    "       \"America's Favorite Feast® (Handmade Pan)\":'other',\n",
    "       \"America's Favorite Feast® (Hand Tossed, Thin Crust or Brooklyn Style)\":'other',\n",
    "       \"America's Favorite Feast® (Brooklyn Style)\":'other',\n",
    "       \"America's Favorite Feast® (Gluten Free Crust)\":'other',\n",
    "       'Bacon Cheeseburger Feast® (Hand Tossed or Thin Crust)':'bacon cheeseburger',\n",
    "       'Bacon Cheeseburger Feast® (Handmade Pan)':'bacon cheeseburger',\n",
    "       'Bacon Cheeseburger Feast® (Hand Tossed, Thin Crust or Brooklyn Style)':'bacon cheeseburger',\n",
    "       'Bacon Cheeseburger Feast® (Brooklyn Style)':'bacon cheeseburger',\n",
    "       'Bacon Cheeseburger Feast® (Gluten Free Crust)':'bacon cheeseburger',\n",
    "       'Deluxe Feast® (Hand Tossed or Thin Crust)':'supreme',\n",
    "       'Deluxe Feast® (Handmade Pan)':'supreme',\n",
    "       'Deluxe Feast® (Hand Tossed, Thin Crust or Brooklyn Style)':'supreme',\n",
    "       'Deluxe Feast® (Brooklyn Style)':'supreme',\n",
    "       'Deluxe Feast® (Gluten Free Crust)':'supreme',\n",
    "       'ExtravaganZZa Feast® (Hand Tossed or Thin Crust)':'supreme',\n",
    "       'ExtravaganZZa Feast® (Hand Tossed, Handmade Pan or Thin Crust)':'supreme',\n",
    "       'ExtravaganZZa Feast® (Hand Tossed, Thin Crust or Brooklyn Style)':'supreme',\n",
    "       'ExtravaganZZa Feast® (Brooklyn Style)':'supreme',\n",
    "       'ExtravaganZZa Feast® (Gluten Free Crust)':'supreme',\n",
    "       'MeatZZa Feast® (Hand Tossed or Thin Crust)':'meat',\n",
    "       'MeatZZa Feast® (Hand Tossed, Handmade Pan or Thin Crust)':'meat',\n",
    "       'MeatZZa Feast® (Hand Tossed, Thin Crust or Brooklyn Style)':'meat',\n",
    "       'MeatZZa Feast® (Brooklyn Style)':'meat',\n",
    "       'MeatZZa Feast® (Gluten Free Crust)':'meat',\n",
    "       'Ultimate Pepperoni Feast™ (Hand Tossed or Thin Crust)':'pepperoni',\n",
    "       'Ultimate Pepperoni Feast™ (Hand Tossed, Handmade Pan or Thin Crust)':'pepperoni',\n",
    "       'Ultimate Pepperoni Feast™ (Hand Tossed, Thin Crust or Brooklyn Style)':'pepperoni',\n",
    "       'Ultimate Pepperoni Feast™ (Brooklyn Style)':'pepperoni',\n",
    "       'Ultimate Pepperoni Feast™ (Gluten Free Crust)':'pepperoni',\n",
    "                  \n",
    "        'Cheese (Original Crust)':'cheese',\n",
    "        'Cheese (Original or Golden Crust)':'cheese',\n",
    "       'Cheese (Original, Golden or Thin Crust)':'cheese',\n",
    "       'Cheese (Mozza-Loaded Crust)':'cheese',\n",
    "        'Cheese (Original or Thin Crust)':'cheese',\n",
    "       'All-Meat Combo Pizza (Original Crust)':'meat',\n",
    "       'All-Meat Combo Pizza (Original or Golden Crust)':'meat',\n",
    "       'All-Meat Combo Pizza (Original, Golden or Thin Crust)':'meat',\n",
    "       'All-Meat Combo Pizza (Mozza-Loaded Crust)':'meat',\n",
    "       'Bacon Cheeseburger Pizza (Original Crust)':'bacon cheeseburger',\n",
    "       'Bacon Cheeseburger Pizza (Original or Golden Crust)':'bacon cheeseburger',\n",
    "       'Bacon Cheeseburger Pizza (Original, Golden or Thin Crust)':'bacon cheeseburger',\n",
    "       'Bacon Cheeseburger Pizza (Mozza-Loaded Crust)':'bacon cheeseburger',\n",
    "       'Bacon Cheeseburger Pizza (Original or Thin Crust)':'bacon cheeseburger',\n",
    "       'Taco Pie Pizza (Original Crust)':'other',\n",
    "       'Taco Pie Pizza (Original or Golden Crust)':'other',\n",
    "       'Taco Pie Pizza (Original, Golden or Thin Crust)':'other',\n",
    "       'Taco Pie Pizza (Mozza-Loaded Crust)':'other',\n",
    "       'Taco Pie Pizza (Original or Thin Crust)':'other',\n",
    "       'Classic Combo Pizza (Original Crust)':'supreme',\n",
    "       'Classic Combo Pizza (Original or Golden Crust)':'supreme',\n",
    "       'Classic Combo Pizza (Original, Golden or Thin Crust)':'supreme',\n",
    "       'Classic Combo Pizza (Mozza-Loaded Crust)':'supreme',\n",
    "       'Classic Combo Pizza (Original or Thin Crust)':'supreme',\n",
    "       'Humble Pie Pizza (Original Crust)':'other',\n",
    "       'Humble Pie Pizza (Original or Golden Crust)':'other',\n",
    "       'Humble Pie Pizza (Original, Golden or Thin Crust)':'other',\n",
    "       'Humble Pie Pizza (Mozza-Loaded Crust)':'other',\n",
    "       'Humble Pie Pizza (Original or Thin Crust)':'other',\n",
    "       'Veggie Pie Pizza (Original Crust)':'veggie',\n",
    "       'Veggie Pie Pizza (Original or Golden Crust)':'veggie',\n",
    "       'Veggie Pie Pizza (Original, Golden or Thin Crust)':'veggie',\n",
    "       'Veggie Pie Pizza (Mozza-Loaded Crust)':'veggie',\n",
    "       'Veggie Pie Pizza (Original or Thin Crust)':'veggie',\n",
    "       'Hot Stuff Pizza (Original Crust)':'other',\n",
    "       'Hot Stuff Pizza (Original or Golden Crust)':'other',\n",
    "       'Hot Stuff Pizza (Original, Golden or Thin Crust)':'other',\n",
    "       'Hot Stuff Pizza (Mozza-Loaded Crust)':'other',\n",
    "       'Hot Stuff Pizza (Original or Thin Crust)':'other',\n",
    "       'Hawaiian Pizza (Original Crust)':'hawaiian',\n",
    "       'Hawaiian Pizza (Original or Golden Crust)':'hawaiian',\n",
    "       'Hawaiian Pizza (Original, Golden or Thin Crust)':'hawaiian',\n",
    "       'Hawaiian Pizza (Mozza-Loaded Crust)':'hawaiian',\n",
    "       'Hawaiian Pizza (Original or Thin Crust)':'hawaiian',\n",
    "       'BLT Pizza (Original Crust)':'other',\n",
    "       'BLT Pizza (Original or Golden Crust)':'other',\n",
    "       'BLT Pizza (Original, Golden or Thin Crust)':'other',\n",
    "       'BLT Pizza (Mozza-Loaded Crust)':'other',\n",
    "       'BLT Pizza (Original or Thin Crust)':'other',\n",
    "       'Buffalo Chicken Pizza (Original Crust)':'chicken',\n",
    "       'Buffalo Chicken Pizza (Original or Golden Crust)':'chicken',\n",
    "       'Buffalo Chicken Pizza (Original, Golden or Thin Crust)':'chicken',\n",
    "       'Buffalo Chicken Pizza (Mozza-Loaded Crust)':'chicken',\n",
    "       'Buffalo Chicken Pizza (Original or Thin Crust)':'chicken',\n",
    "       'Super Combo Pizza (Original or Golden Crust)':'supreme',\n",
    "       'Super Combo Pizza (Original, Golden or Thin Crust)':'supreme',\n",
    "       'Super Combo Pizza (Mozza-Loaded Crust)':'supreme',\n",
    "       'Super Combo Pizza (Original or Thin Crust)':'supreme',\n",
    "       'Super Hawaiian Pizza (Original or Golden Crust)':'hawaiian',\n",
    "       'Super Hawaiian Pizza (Original, Golden or Thin Crust)':'hawaiian',\n",
    "       'Super Hawaiian Pizza (Mozza-Loaded Crust)':'hawaiian',\n",
    "       'Super Hawaiian Pizza (Original or Thin Crust)':'hawaiian',\n",
    "       'Super Taco Pizza (Original or Golden Crust)':'other',\n",
    "       'Super Taco Pizza (Original, Golden or Thin Crust)':'other',\n",
    "       'Super Taco Pizza (Mozza-Loaded Crust)':'other',\n",
    "       'Super Taco Pizza (Original or Thin Crust)':'other',\n",
    "       'The Don (Original or Golden Crust)':'other',\n",
    "       'The Don (Original, Golden or Thin Crust)':'other',\n",
    "       'The Don (Mozza-Loaded Crust)':'other',\n",
    "        'The Don (Original or Thin Crust)':'other',\n",
    "       'Super Veggie Pizza (Original or Golden Crust)':'veggie',\n",
    "       'Super Veggie Pizza (Original, Golden or Thin Crust)':'veggie',\n",
    "       'Super Veggie Pizza (Mozza-Loaded Crust)':'veggie',\n",
    "       'Super Veggie Pizza (Original or Thin Crust)':'veggie',\n",
    "       'BBQ Bacon Cheeseburger Pizza (Original Crust)':'bacon cheeseburger',\n",
    "       'BBQ Bacon Cheeseburger Pizza (Original, Golden or Thin Crust)':'bacon cheeseburger',\n",
    "       'BBQ Bacon Cheeseburger Pizza (Mozza-Loaded Crust)':'bacon cheeseburger',\n",
    "       'Chipotle Chicken and Bacon Pizza (Original Crust)':'other',\n",
    "       'Chipotle Chicken and Bacon Pizza (Original, Golden or Thin Crust)':'other',\n",
    "       'Chipotle Chicken and Bacon Pizza (Mozza-Loaded Crust)':'other',\n",
    "       'Margherita Pizza (Original, Golden or Thin Crust)':'other',\n",
    "       'Margherita Pizza (Thin Crust)':'other',\n",
    "       'Margherita Chicken Pizza (Original, Golden or Thin Crust)':'other',\n",
    "       'Margherita Chicken Pizza (Thin Crust)':'other',\n",
    "        'Thin Crust':'cheese',\n",
    "       'Original Crust':'cheese',\n",
    "        'Original or Golden Crust':'cheese',\n",
    "       'Original, Golden or Thin Crust':'cheese',\n",
    "        'Mozza-Loaded Crust':'cheese',\n",
    "       'Original or Thin Crust':'cheese',\n",
    "                  \n",
    "        'Deluxe Pizza':'supreme',\n",
    "        'Veggie Pizza':'veggie',\n",
    "        'Cheese Pizza':'cheese',\n",
    "        'All Meat Pizza':'meat',\n",
    "       'BBQ Chicken Pizza':'chicken',\n",
    "        'Egg-Ceptional Pizza':'other',\n",
    "                  \n",
    "                  \n",
    "        'Hand-Tossed':'cheese',\n",
    "        'Pan Pizza':'cheese',\n",
    "        'Thin N Crispy':'cheese',\n",
    "        'Stuffed Crust':'cheese',\n",
    "       'Skinny Slice':'cheese',\n",
    "        \"Pepperoni Lover's® Pizza (Hand-Tossed)\":'pepperoni',\n",
    "       \"Pepperoni Lover's® Pizza (Pan Pizza)\":'pepperoni',\n",
    "       \"Pepperoni Lover's® Pizza (Thin N Crispy)\":'pepperoni',\n",
    "       \"Pepperoni Lover's® Pizza (Stuffed Crust)\":'pepperoni',\n",
    "       \"Pepperoni Lover's® Pizza (Skinny Slice)\":'pepperoni',\n",
    "       \"Meat Lover's® Pizza (Hand-Tossed)\":'meat',\n",
    "       \"Meat Lover's® Pizza (Pan Pizza)\":'meat',\n",
    "       \"Meat Lover's® Pizza (Thin N Crispy)\":'meat',\n",
    "       \"Meat Lover's® Pizza (Stuffed Crust)\":'meat',\n",
    "       \"Meat Lover's® Pizza (Skinny Slice)\":'meat',\n",
    "       \"Ultimate Cheese Lover's Pizza (Hand-Tossed)\":'other',\n",
    "       \"Ultimate Cheese Lover's Pizza (Pan Pizza)\":'other',\n",
    "       \"Ultimate Cheese Lover's Pizza (Thin N Crispy)\":'other',\n",
    "       \"Ultimate Cheese Lover's Pizza (Stuffed Crust)\":'other',\n",
    "       \"Ultimate Cheese Lover's Pizza (Skinny Slice)\":'other',\n",
    "       \"Veggie Lover's® Pizza (Hand-Tossed)\":'veggie',\n",
    "       \"Veggie Lover's® Pizza (Pan Pizza)\":'veggie',\n",
    "       \"Veggie Lover's® Pizza (Thin N Crispy)\":'veggie',\n",
    "       \"Veggie Lover's® Pizza (Stuffed Crust)\":'veggie',\n",
    "       \"Veggie Lover's® Pizza (Skinny Slice)\":'veggie',\n",
    "       'Supreme Pizza (Hand-Tossed)':'supreme',\n",
    "        'Supreme Pizza (Pan Pizza)':'supreme',\n",
    "       'Supreme Pizza (Thin N Crispy)':'supreme',\n",
    "        'Supreme Pizza (Stuffed Crust)':'supreme',\n",
    "       'Supreme Pizza (Skinny Slice)':'supreme',\n",
    "        \"BBQ Lover's™ (Hand-Tossed)\":'other',\n",
    "       \"BBQ Lover's™ (Pan Pizza)\":'other',\n",
    "        \"BBQ Lover's™ (Thin N Crispy)\":'other',\n",
    "       \"BBQ Lover's™ (Stuffed Crust)\":'other',\n",
    "        \"BBQ Lover's™ (Skinny Slice)\":'other',\n",
    "       'Chicken Supreme Pizza (Hand-Tossed)':'supreme',\n",
    "       'Chicken Supreme Pizza (Pan Pizza)':'supreme',\n",
    "       'Chicken Supreme Pizza (Thin N Crispy)':'supreme',\n",
    "       'Chicken Supreme Pizza (Stuffed Crust)':'supreme',\n",
    "       'Chicken Supreme Pizza (Skinny Slice)':'supreme',\n",
    "       'New Primo Meat Pizza (Hand-Tossed)':'meat',\n",
    "       'New Primo Meat Pizza (Pan Pizza)':'meat',\n",
    "       'New Primo Meat Pizza (Thin N Crispy)':'meat',\n",
    "       'New Primo Meat Pizza (Stuffed Crust)':'meat',\n",
    "       'New Primo Meat Pizza (Skinny Slice)':'meat',\n",
    "       'Hawaiian Luau (Hand-Tossed)':'hawaiian',\n",
    "        'Hawaiian Luau (Pan Pizza)':'hawaiian',\n",
    "       'Hawaiian Luau (Thin N Crispy)':'hawaiian',\n",
    "        'Hawaiian Luau (Stuffed Crust)':'hawaiian',\n",
    "       'Hawaiian Luau (Skinny Slice)':'hawaiian',\n",
    "       'Super Supreme Pizza (Hand-Tossed)':'supreme',\n",
    "       'Super Supreme Pizza (Pan Pizza)':'supreme',\n",
    "       'Super Supreme Pizza (Thin N Crispy)':'supreme',\n",
    "       'Super Supreme Pizza (Stuffed Crust)':'supreme',\n",
    "       'Super Supreme Pizza (Skinny Slice)':'supreme',\n",
    "       'Garden Party™ (Thin N Crispy)':'other',\n",
    "       'Old Fashioned Meatbrawl™ (Pan Pizza)':'other',\n",
    "       'Cock-a-doodle Bacon™ (Hand-Tossed)':'other',\n",
    "       'Hot and Twisted™ (Hand-Tossed)':'other',\n",
    "        'Pretzel Piggy™ (Hand-Tossed)':'other',\n",
    "       'BBQ Bacon Cheeseburger (Hand-Tossed)':'bacon cheeseburger',\n",
    "       'Giddy-Up BBQ Chicken™ (Hand-Tossed)':'chicken',\n",
    "       'Buffalo State of Mind™ (Hand-Tossed)':'chicken',\n",
    "       'Cherry Pepper Bombshell™ (Thin N Crispy)':'other',\n",
    "       '7-Alarm Fire™ (Hand-Tossed)':'other',\n",
    "        'Skinny Beach™ (Skinny Slice)':'other',\n",
    "       'Skinny With A Kick™ (Skinny Slice)':'other',\n",
    "       'Skinny Italy (Skinny Slice)':'other',\n",
    "        'Skinny Luau™ (Skinny Slice)':'other',\n",
    "       'Skinny Club™ (Skinny Slice)':'other',\n",
    "       'Create Your Own (Gluten-Free Crust)':'other' }\n",
    "                  \n",
    "        "
   ]
  },
  {
   "cell_type": "code",
   "execution_count": 239,
   "id": "e40aa597",
   "metadata": {},
   "outputs": [
    {
     "data": {
      "text/html": [
       "<div>\n",
       "<style scoped>\n",
       "    .dataframe tbody tr th:only-of-type {\n",
       "        vertical-align: middle;\n",
       "    }\n",
       "\n",
       "    .dataframe tbody tr th {\n",
       "        vertical-align: top;\n",
       "    }\n",
       "\n",
       "    .dataframe thead th {\n",
       "        text-align: right;\n",
       "    }\n",
       "</style>\n",
       "<table border=\"1\" class=\"dataframe\">\n",
       "  <thead>\n",
       "    <tr style=\"text-align: right;\">\n",
       "      <th></th>\n",
       "      <th>Company</th>\n",
       "      <th>Pizza Name</th>\n",
       "      <th>Type</th>\n",
       "      <th>Size</th>\n",
       "      <th>Price</th>\n",
       "      <th>Diameter(inches)</th>\n",
       "      <th>Toppings</th>\n",
       "    </tr>\n",
       "  </thead>\n",
       "  <tbody>\n",
       "    <tr>\n",
       "      <th>0</th>\n",
       "      <td>Domino's Pizza</td>\n",
       "      <td>Hand Tossed</td>\n",
       "      <td>Cheeses Pizza</td>\n",
       "      <td>Small (10\")</td>\n",
       "      <td>5.99</td>\n",
       "      <td>10</td>\n",
       "      <td>cheese</td>\n",
       "    </tr>\n",
       "    <tr>\n",
       "      <th>1</th>\n",
       "      <td>Domino's Pizza</td>\n",
       "      <td>Hand Tossed</td>\n",
       "      <td>Cheeses Pizza</td>\n",
       "      <td>Medium (12\")</td>\n",
       "      <td>7.99</td>\n",
       "      <td>12</td>\n",
       "      <td>cheese</td>\n",
       "    </tr>\n",
       "    <tr>\n",
       "      <th>2</th>\n",
       "      <td>Domino's Pizza</td>\n",
       "      <td>Hand Tossed</td>\n",
       "      <td>Cheeses Pizza</td>\n",
       "      <td>Large (14\")</td>\n",
       "      <td>9.99</td>\n",
       "      <td>14</td>\n",
       "      <td>cheese</td>\n",
       "    </tr>\n",
       "    <tr>\n",
       "      <th>3</th>\n",
       "      <td>Domino's Pizza</td>\n",
       "      <td>Handmade Pan</td>\n",
       "      <td>Cheeses Pizza</td>\n",
       "      <td>Medium (12\")</td>\n",
       "      <td>7.99</td>\n",
       "      <td>12</td>\n",
       "      <td>cheese</td>\n",
       "    </tr>\n",
       "    <tr>\n",
       "      <th>4</th>\n",
       "      <td>Domino's Pizza</td>\n",
       "      <td>Crunchy Thin Crust</td>\n",
       "      <td>Cheeses Pizza</td>\n",
       "      <td>Small (10\")</td>\n",
       "      <td>5.99</td>\n",
       "      <td>10</td>\n",
       "      <td>cheese</td>\n",
       "    </tr>\n",
       "  </tbody>\n",
       "</table>\n",
       "</div>"
      ],
      "text/plain": [
       "          Company          Pizza Name           Type          Size  Price  \\\n",
       "0  Domino's Pizza         Hand Tossed  Cheeses Pizza   Small (10\")   5.99   \n",
       "1  Domino's Pizza         Hand Tossed  Cheeses Pizza  Medium (12\")   7.99   \n",
       "2  Domino's Pizza         Hand Tossed  Cheeses Pizza   Large (14\")   9.99   \n",
       "3  Domino's Pizza        Handmade Pan  Cheeses Pizza  Medium (12\")   7.99   \n",
       "4  Domino's Pizza  Crunchy Thin Crust  Cheeses Pizza   Small (10\")   5.99   \n",
       "\n",
       "   Diameter(inches) Toppings  \n",
       "0                10   cheese  \n",
       "1                12   cheese  \n",
       "2                14   cheese  \n",
       "3                12   cheese  \n",
       "4                10   cheese  "
      ]
     },
     "execution_count": 239,
     "metadata": {},
     "output_type": "execute_result"
    }
   ],
   "source": [
    "df['Toppings'] = 'n/a'\n",
    "df['Toppings'] = df['Pizza Name'].map(pizza_name_cat)\n",
    "df.head()"
   ]
  },
  {
   "cell_type": "code",
   "execution_count": 240,
   "id": "e75655bb",
   "metadata": {},
   "outputs": [
    {
     "data": {
      "text/plain": [
       "Godfather's Pizza    133\n",
       "Pizza Hut            126\n",
       "Domino's Pizza        88\n",
       "IMO's Pizza           24\n",
       "Name: Company, dtype: int64"
      ]
     },
     "execution_count": 240,
     "metadata": {},
     "output_type": "execute_result"
    }
   ],
   "source": [
    "df['Company'].value_counts()"
   ]
  },
  {
   "cell_type": "code",
   "execution_count": 241,
   "id": "183d8ba7",
   "metadata": {},
   "outputs": [
    {
     "data": {
      "text/plain": [
       "BBQ Bacon Cheeseburger Pizza (Original, Golden or Thin Crust)        4\n",
       "Chipotle Chicken and Bacon Pizza (Original, Golden or Thin Crust)    4\n",
       "Cheese Pizza                                                         4\n",
       "Egg-Ceptional Pizza                                                  4\n",
       "BBQ Chicken Pizza                                                    4\n",
       "                                                                    ..\n",
       "Spinach & Feta (Hand Tossed, Thin Crust or Brooklyn Style)           1\n",
       "Skinny Italy (Skinny Slice)                                          1\n",
       "Taco Pie Pizza (Original or Golden Crust)                            1\n",
       "Spinach & Feta (Gluten Free Crust)                                   1\n",
       "Fiery Hawaiian™ (Hand Tossed, Thin Crust or Brooklyn Style)          1\n",
       "Name: Pizza Name, Length: 247, dtype: int64"
      ]
     },
     "execution_count": 241,
     "metadata": {},
     "output_type": "execute_result"
    }
   ],
   "source": [
    "df['Pizza Name'].value_counts()"
   ]
  },
  {
   "cell_type": "code",
   "execution_count": 242,
   "id": "6c7eb59e",
   "metadata": {},
   "outputs": [
    {
     "data": {
      "text/plain": [
       "Specialty Pizzas         186\n",
       "Classic Recipe Pizzas     90\n",
       "Feast Pizzas              33\n",
       "New Recipe Pizzas         21\n",
       "Cheese Pizza              16\n",
       "Cheeses Pizza             10\n",
       "Express Favorites          7\n",
       "Skinny Pizzas              5\n",
       "Gluten-Free Pizzas         3\n",
       "Name: Type, dtype: int64"
      ]
     },
     "execution_count": 242,
     "metadata": {},
     "output_type": "execute_result"
    }
   ],
   "source": [
    "df['Type'].value_counts()"
   ]
  },
  {
   "cell_type": "code",
   "execution_count": 243,
   "id": "4754b6a0",
   "metadata": {},
   "outputs": [
    {
     "data": {
      "text/plain": [
       "Large            111\n",
       "Medium            84\n",
       "Small (10\")       39\n",
       "Medium (12\")      27\n",
       "Large (14\")       24\n",
       "Small             20\n",
       "Jumbo             18\n",
       "X-Large (16\")     16\n",
       "Mini              14\n",
       "Personal          12\n",
       "X Large (16\")      6\n",
       "Name: Size, dtype: int64"
      ]
     },
     "execution_count": 243,
     "metadata": {},
     "output_type": "execute_result"
    }
   ],
   "source": [
    "df['Size'].value_counts()"
   ]
  },
  {
   "cell_type": "code",
   "execution_count": 244,
   "id": "26aa55f9",
   "metadata": {},
   "outputs": [
    {
     "data": {
      "text/plain": [
       "Index(['Company', 'Pizza Name', 'Type', 'Size', 'Price', 'Diameter(inches)',\n",
       "       'Toppings'],\n",
       "      dtype='object')"
      ]
     },
     "execution_count": 244,
     "metadata": {},
     "output_type": "execute_result"
    }
   ],
   "source": [
    "df.columns"
   ]
  },
  {
   "cell_type": "markdown",
   "id": "9db3d0ef",
   "metadata": {},
   "source": [
    "## Make a catogorical variable for price"
   ]
  },
  {
   "cell_type": "code",
   "execution_count": 245,
   "id": "53d60d56",
   "metadata": {},
   "outputs": [],
   "source": [
    "price = df['Price']\n",
    "q13 = df['Price'].quantile(1/3)\n",
    "q23 = df['Price'].quantile(2/3)\n",
    "price_level = []\n",
    "for i in price:\n",
    "    if i < q13:\n",
    "        price_level.append('low')\n",
    "    elif (q13 <= i < q23):\n",
    "        price_level.append('medium')\n",
    "    else:\n",
    "        price_level.append('high')       "
   ]
  },
  {
   "cell_type": "code",
   "execution_count": 246,
   "id": "3af7d24c",
   "metadata": {},
   "outputs": [],
   "source": [
    "df['Price_Level'] = price_level"
   ]
  },
  {
   "cell_type": "code",
   "execution_count": null,
   "id": "11567374",
   "metadata": {},
   "outputs": [],
   "source": []
  },
  {
   "cell_type": "markdown",
   "id": "36b0870a",
   "metadata": {},
   "source": [
    "### Rearange columns"
   ]
  },
  {
   "cell_type": "code",
   "execution_count": 247,
   "id": "000dd38e",
   "metadata": {},
   "outputs": [],
   "source": [
    "column_names_order = ['Company', 'Pizza Name', 'Type', 'Size', 'Diameter(inches)','Toppings','Price_Level','Price']"
   ]
  },
  {
   "cell_type": "code",
   "execution_count": 248,
   "id": "23285c40",
   "metadata": {},
   "outputs": [
    {
     "data": {
      "text/html": [
       "<div>\n",
       "<style scoped>\n",
       "    .dataframe tbody tr th:only-of-type {\n",
       "        vertical-align: middle;\n",
       "    }\n",
       "\n",
       "    .dataframe tbody tr th {\n",
       "        vertical-align: top;\n",
       "    }\n",
       "\n",
       "    .dataframe thead th {\n",
       "        text-align: right;\n",
       "    }\n",
       "</style>\n",
       "<table border=\"1\" class=\"dataframe\">\n",
       "  <thead>\n",
       "    <tr style=\"text-align: right;\">\n",
       "      <th></th>\n",
       "      <th>Company</th>\n",
       "      <th>Pizza Name</th>\n",
       "      <th>Type</th>\n",
       "      <th>Size</th>\n",
       "      <th>Diameter(inches)</th>\n",
       "      <th>Toppings</th>\n",
       "      <th>Price_Level</th>\n",
       "      <th>Price</th>\n",
       "    </tr>\n",
       "  </thead>\n",
       "  <tbody>\n",
       "    <tr>\n",
       "      <th>0</th>\n",
       "      <td>Domino's Pizza</td>\n",
       "      <td>Hand Tossed</td>\n",
       "      <td>Cheeses Pizza</td>\n",
       "      <td>Small (10\")</td>\n",
       "      <td>10</td>\n",
       "      <td>cheese</td>\n",
       "      <td>low</td>\n",
       "      <td>5.99</td>\n",
       "    </tr>\n",
       "    <tr>\n",
       "      <th>1</th>\n",
       "      <td>Domino's Pizza</td>\n",
       "      <td>Hand Tossed</td>\n",
       "      <td>Cheeses Pizza</td>\n",
       "      <td>Medium (12\")</td>\n",
       "      <td>12</td>\n",
       "      <td>cheese</td>\n",
       "      <td>low</td>\n",
       "      <td>7.99</td>\n",
       "    </tr>\n",
       "    <tr>\n",
       "      <th>2</th>\n",
       "      <td>Domino's Pizza</td>\n",
       "      <td>Hand Tossed</td>\n",
       "      <td>Cheeses Pizza</td>\n",
       "      <td>Large (14\")</td>\n",
       "      <td>14</td>\n",
       "      <td>cheese</td>\n",
       "      <td>low</td>\n",
       "      <td>9.99</td>\n",
       "    </tr>\n",
       "    <tr>\n",
       "      <th>3</th>\n",
       "      <td>Domino's Pizza</td>\n",
       "      <td>Handmade Pan</td>\n",
       "      <td>Cheeses Pizza</td>\n",
       "      <td>Medium (12\")</td>\n",
       "      <td>12</td>\n",
       "      <td>cheese</td>\n",
       "      <td>low</td>\n",
       "      <td>7.99</td>\n",
       "    </tr>\n",
       "    <tr>\n",
       "      <th>4</th>\n",
       "      <td>Domino's Pizza</td>\n",
       "      <td>Crunchy Thin Crust</td>\n",
       "      <td>Cheeses Pizza</td>\n",
       "      <td>Small (10\")</td>\n",
       "      <td>10</td>\n",
       "      <td>cheese</td>\n",
       "      <td>low</td>\n",
       "      <td>5.99</td>\n",
       "    </tr>\n",
       "  </tbody>\n",
       "</table>\n",
       "</div>"
      ],
      "text/plain": [
       "          Company          Pizza Name           Type          Size  \\\n",
       "0  Domino's Pizza         Hand Tossed  Cheeses Pizza   Small (10\")   \n",
       "1  Domino's Pizza         Hand Tossed  Cheeses Pizza  Medium (12\")   \n",
       "2  Domino's Pizza         Hand Tossed  Cheeses Pizza   Large (14\")   \n",
       "3  Domino's Pizza        Handmade Pan  Cheeses Pizza  Medium (12\")   \n",
       "4  Domino's Pizza  Crunchy Thin Crust  Cheeses Pizza   Small (10\")   \n",
       "\n",
       "   Diameter(inches) Toppings Price_Level  Price  \n",
       "0                10   cheese         low   5.99  \n",
       "1                12   cheese         low   7.99  \n",
       "2                14   cheese         low   9.99  \n",
       "3                12   cheese         low   7.99  \n",
       "4                10   cheese         low   5.99  "
      ]
     },
     "execution_count": 248,
     "metadata": {},
     "output_type": "execute_result"
    }
   ],
   "source": [
    "df = df.reindex(columns=column_names_order)\n",
    "df.head()"
   ]
  },
  {
   "cell_type": "markdown",
   "id": "67fd558c",
   "metadata": {},
   "source": [
    "### Delete related Columns"
   ]
  },
  {
   "cell_type": "code",
   "execution_count": 249,
   "id": "a650d7bb",
   "metadata": {},
   "outputs": [
    {
     "data": {
      "text/html": [
       "<div>\n",
       "<style scoped>\n",
       "    .dataframe tbody tr th:only-of-type {\n",
       "        vertical-align: middle;\n",
       "    }\n",
       "\n",
       "    .dataframe tbody tr th {\n",
       "        vertical-align: top;\n",
       "    }\n",
       "\n",
       "    .dataframe thead th {\n",
       "        text-align: right;\n",
       "    }\n",
       "</style>\n",
       "<table border=\"1\" class=\"dataframe\">\n",
       "  <thead>\n",
       "    <tr style=\"text-align: right;\">\n",
       "      <th></th>\n",
       "      <th>Company</th>\n",
       "      <th>Type</th>\n",
       "      <th>Diameter(inches)</th>\n",
       "      <th>Toppings</th>\n",
       "      <th>Price_Level</th>\n",
       "      <th>Price</th>\n",
       "    </tr>\n",
       "  </thead>\n",
       "  <tbody>\n",
       "    <tr>\n",
       "      <th>0</th>\n",
       "      <td>Domino's Pizza</td>\n",
       "      <td>Cheeses Pizza</td>\n",
       "      <td>10</td>\n",
       "      <td>cheese</td>\n",
       "      <td>low</td>\n",
       "      <td>5.99</td>\n",
       "    </tr>\n",
       "    <tr>\n",
       "      <th>1</th>\n",
       "      <td>Domino's Pizza</td>\n",
       "      <td>Cheeses Pizza</td>\n",
       "      <td>12</td>\n",
       "      <td>cheese</td>\n",
       "      <td>low</td>\n",
       "      <td>7.99</td>\n",
       "    </tr>\n",
       "    <tr>\n",
       "      <th>2</th>\n",
       "      <td>Domino's Pizza</td>\n",
       "      <td>Cheeses Pizza</td>\n",
       "      <td>14</td>\n",
       "      <td>cheese</td>\n",
       "      <td>low</td>\n",
       "      <td>9.99</td>\n",
       "    </tr>\n",
       "    <tr>\n",
       "      <th>3</th>\n",
       "      <td>Domino's Pizza</td>\n",
       "      <td>Cheeses Pizza</td>\n",
       "      <td>12</td>\n",
       "      <td>cheese</td>\n",
       "      <td>low</td>\n",
       "      <td>7.99</td>\n",
       "    </tr>\n",
       "    <tr>\n",
       "      <th>4</th>\n",
       "      <td>Domino's Pizza</td>\n",
       "      <td>Cheeses Pizza</td>\n",
       "      <td>10</td>\n",
       "      <td>cheese</td>\n",
       "      <td>low</td>\n",
       "      <td>5.99</td>\n",
       "    </tr>\n",
       "  </tbody>\n",
       "</table>\n",
       "</div>"
      ],
      "text/plain": [
       "          Company           Type  Diameter(inches) Toppings Price_Level  Price\n",
       "0  Domino's Pizza  Cheeses Pizza                10   cheese         low   5.99\n",
       "1  Domino's Pizza  Cheeses Pizza                12   cheese         low   7.99\n",
       "2  Domino's Pizza  Cheeses Pizza                14   cheese         low   9.99\n",
       "3  Domino's Pizza  Cheeses Pizza                12   cheese         low   7.99\n",
       "4  Domino's Pizza  Cheeses Pizza                10   cheese         low   5.99"
      ]
     },
     "execution_count": 249,
     "metadata": {},
     "output_type": "execute_result"
    }
   ],
   "source": [
    "del df['Pizza Name']\n",
    "del df['Size']\n",
    "df.head()"
   ]
  },
  {
   "cell_type": "markdown",
   "id": "22804c89",
   "metadata": {},
   "source": [
    "## Condense The Pizza Type\n",
    "\n",
    "Specialty Pizzas:         186\n",
    "\n",
    "Classic Recipe Pizzas:     90\n",
    "\n",
    "Feast Pizzas:              33\n",
    "\n",
    "\n",
    "Rest:                      other type"
   ]
  },
  {
   "cell_type": "code",
   "execution_count": 250,
   "id": "d062c6fc",
   "metadata": {},
   "outputs": [
    {
     "data": {
      "text/html": [
       "<div>\n",
       "<style scoped>\n",
       "    .dataframe tbody tr th:only-of-type {\n",
       "        vertical-align: middle;\n",
       "    }\n",
       "\n",
       "    .dataframe tbody tr th {\n",
       "        vertical-align: top;\n",
       "    }\n",
       "\n",
       "    .dataframe thead th {\n",
       "        text-align: right;\n",
       "    }\n",
       "</style>\n",
       "<table border=\"1\" class=\"dataframe\">\n",
       "  <thead>\n",
       "    <tr style=\"text-align: right;\">\n",
       "      <th></th>\n",
       "      <th>Company</th>\n",
       "      <th>Type</th>\n",
       "      <th>Diameter(inches)</th>\n",
       "      <th>Toppings</th>\n",
       "      <th>Price_Level</th>\n",
       "      <th>Price</th>\n",
       "    </tr>\n",
       "  </thead>\n",
       "  <tbody>\n",
       "    <tr>\n",
       "      <th>0</th>\n",
       "      <td>Domino's Pizza</td>\n",
       "      <td>other</td>\n",
       "      <td>10</td>\n",
       "      <td>cheese</td>\n",
       "      <td>low</td>\n",
       "      <td>5.99</td>\n",
       "    </tr>\n",
       "    <tr>\n",
       "      <th>1</th>\n",
       "      <td>Domino's Pizza</td>\n",
       "      <td>other</td>\n",
       "      <td>12</td>\n",
       "      <td>cheese</td>\n",
       "      <td>low</td>\n",
       "      <td>7.99</td>\n",
       "    </tr>\n",
       "    <tr>\n",
       "      <th>2</th>\n",
       "      <td>Domino's Pizza</td>\n",
       "      <td>other</td>\n",
       "      <td>14</td>\n",
       "      <td>cheese</td>\n",
       "      <td>low</td>\n",
       "      <td>9.99</td>\n",
       "    </tr>\n",
       "    <tr>\n",
       "      <th>3</th>\n",
       "      <td>Domino's Pizza</td>\n",
       "      <td>other</td>\n",
       "      <td>12</td>\n",
       "      <td>cheese</td>\n",
       "      <td>low</td>\n",
       "      <td>7.99</td>\n",
       "    </tr>\n",
       "    <tr>\n",
       "      <th>4</th>\n",
       "      <td>Domino's Pizza</td>\n",
       "      <td>other</td>\n",
       "      <td>10</td>\n",
       "      <td>cheese</td>\n",
       "      <td>low</td>\n",
       "      <td>5.99</td>\n",
       "    </tr>\n",
       "  </tbody>\n",
       "</table>\n",
       "</div>"
      ],
      "text/plain": [
       "          Company   Type  Diameter(inches) Toppings Price_Level  Price\n",
       "0  Domino's Pizza  other                10   cheese         low   5.99\n",
       "1  Domino's Pizza  other                12   cheese         low   7.99\n",
       "2  Domino's Pizza  other                14   cheese         low   9.99\n",
       "3  Domino's Pizza  other                12   cheese         low   7.99\n",
       "4  Domino's Pizza  other                10   cheese         low   5.99"
      ]
     },
     "execution_count": 250,
     "metadata": {},
     "output_type": "execute_result"
    }
   ],
   "source": [
    "for i,j in enumerate(df['Type']):\n",
    "    if (df['Type'][i] == 'Specialty Pizzas') or (df['Type'][i] == 'Classic Recipe Pizzas') or (df['Type'][i] == 'Feast Pizzas'):\n",
    "        None\n",
    "    else:\n",
    "        df['Type'][i] = 'other'\n",
    "\n",
    "df.head()"
   ]
  },
  {
   "cell_type": "code",
   "execution_count": 263,
   "id": "46391ff1",
   "metadata": {},
   "outputs": [
    {
     "data": {
      "text/plain": [
       "medium    133\n",
       "high      125\n",
       "low       113\n",
       "Name: Price_Level, dtype: int64"
      ]
     },
     "execution_count": 263,
     "metadata": {},
     "output_type": "execute_result"
    }
   ],
   "source": [
    "df['Price_Level'].value_counts()"
   ]
  },
  {
   "cell_type": "code",
   "execution_count": 251,
   "id": "d9f3058e",
   "metadata": {},
   "outputs": [
    {
     "data": {
      "text/plain": [
       "Company              object\n",
       "Type                 object\n",
       "Diameter(inches)      int64\n",
       "Toppings             object\n",
       "Price_Level          object\n",
       "Price               float64\n",
       "dtype: object"
      ]
     },
     "execution_count": 251,
     "metadata": {},
     "output_type": "execute_result"
    }
   ],
   "source": [
    "df.dtypes"
   ]
  },
  {
   "cell_type": "code",
   "execution_count": 259,
   "id": "0e898bb6",
   "metadata": {},
   "outputs": [
    {
     "data": {
      "text/plain": [
       "4"
      ]
     },
     "execution_count": 259,
     "metadata": {},
     "output_type": "execute_result"
    }
   ],
   "source": [
    "len(df['Type'].value_counts())"
   ]
  },
  {
   "cell_type": "code",
   "execution_count": 253,
   "id": "f367aacd",
   "metadata": {},
   "outputs": [
    {
     "data": {
      "text/plain": [
       "medium    133\n",
       "high      125\n",
       "low       113\n",
       "Name: Price_Level, dtype: int64"
      ]
     },
     "execution_count": 253,
     "metadata": {},
     "output_type": "execute_result"
    }
   ],
   "source": [
    "df['Price_Level'].value_counts()"
   ]
  },
  {
   "cell_type": "code",
   "execution_count": 254,
   "id": "f720f134",
   "metadata": {},
   "outputs": [],
   "source": [
    "df.to_csv (r'pizza_updated.csv', index = False, header=True)"
   ]
  },
  {
   "cell_type": "markdown",
   "id": "5665054d",
   "metadata": {},
   "source": []
  },
  {
   "cell_type": "code",
   "execution_count": null,
   "id": "897411b9",
   "metadata": {},
   "outputs": [],
   "source": []
  },
  {
   "cell_type": "code",
   "execution_count": null,
   "id": "6635a52c",
   "metadata": {},
   "outputs": [],
   "source": []
  },
  {
   "cell_type": "code",
   "execution_count": null,
   "id": "82713697",
   "metadata": {},
   "outputs": [],
   "source": []
  },
  {
   "cell_type": "code",
   "execution_count": null,
   "id": "2df97f87",
   "metadata": {},
   "outputs": [],
   "source": []
  },
  {
   "cell_type": "code",
   "execution_count": null,
   "id": "d9c11be3",
   "metadata": {},
   "outputs": [],
   "source": []
  },
  {
   "cell_type": "code",
   "execution_count": null,
   "id": "7fd47657",
   "metadata": {},
   "outputs": [],
   "source": []
  },
  {
   "cell_type": "code",
   "execution_count": null,
   "id": "6fd5cbb3",
   "metadata": {},
   "outputs": [],
   "source": []
  },
  {
   "cell_type": "code",
   "execution_count": null,
   "id": "e47920e9",
   "metadata": {},
   "outputs": [],
   "source": []
  },
  {
   "cell_type": "code",
   "execution_count": null,
   "id": "75c1b23d",
   "metadata": {},
   "outputs": [],
   "source": []
  }
 ],
 "metadata": {
  "kernelspec": {
   "display_name": "Python 3 (ipykernel)",
   "language": "python",
   "name": "python3"
  },
  "language_info": {
   "codemirror_mode": {
    "name": "ipython",
    "version": 3
   },
   "file_extension": ".py",
   "mimetype": "text/x-python",
   "name": "python",
   "nbconvert_exporter": "python",
   "pygments_lexer": "ipython3",
   "version": "3.7.12"
  }
 },
 "nbformat": 4,
 "nbformat_minor": 5
}
